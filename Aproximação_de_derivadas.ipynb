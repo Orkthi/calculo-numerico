{
  "nbformat": 4,
  "nbformat_minor": 0,
  "metadata": {
    "colab": {
      "provenance": [],
      "include_colab_link": true
    },
    "kernelspec": {
      "name": "python3",
      "display_name": "Python 3"
    },
    "language_info": {
      "name": "python"
    }
  },
  "cells": [
    {
      "cell_type": "markdown",
      "metadata": {
        "id": "view-in-github",
        "colab_type": "text"
      },
      "source": [
        "<a href=\"https://colab.research.google.com/github/Orkthi/calculo-numerico/blob/main/Aproxima%C3%A7%C3%A3o_de_derivadas.ipynb\" target=\"_parent\"><img src=\"https://colab.research.google.com/assets/colab-badge.svg\" alt=\"Open In Colab\"/></a>"
      ]
    },
    {
      "cell_type": "code",
      "execution_count": null,
      "metadata": {
        "colab": {
          "base_uri": "https://localhost:8080/"
        },
        "id": "kWKLlgO5VGox",
        "outputId": "662a05b9-6e01-412b-d85e-173d8b980e97"
      },
      "outputs": [
        {
          "output_type": "stream",
          "name": "stdout",
          "text": [
            "Derivada Centrada: 22.22878999999998\n",
            "Derivada Não Centrada: 23.70844999999997\n",
            "Drp derivada Centrada: 1163.9524201153552 %\n",
            "Drp derivada nao Centrada: 1234.7744413746266 %\n",
            "Erro de Truncamento Derivada Centrada: 0.011820951323120847\n",
            "Erro de Truncamento Derivada Não Centrada: 0.16266769675411627\n"
          ]
        }
      ],
      "source": [
        "#Considerando cota maxima no erro de truncamento\n",
        "\n",
        "import math\n",
        "\n",
        "def f_segunda_derivada(x):\n",
        "    return 4 * math.exp(-2 * x) - 4 * math.cos(2 * x)\n",
        "\n",
        "def f_terceira_derivada(x):\n",
        "    return -8 * math.exp(-2 * x) + 8 * math.sin(2 * x)\n",
        "\n",
        "def erro_truncamento(tipo, x, h):\n",
        "    if tipo == 'centrada':\n",
        "        return abs(f_terceira_derivada(x) * h**2 / 6)\n",
        "    elif tipo == 'nao_centrada':\n",
        "        return abs(f_segunda_derivada(x) * h / 2)\n",
        "    else:\n",
        "        return None\n",
        "\n",
        "import math\n",
        "def derivada_centrada(pontos, indice):\n",
        "    if indice == 0 or indice == len(pontos) - 1:\n",
        "        return None  # Não é possível calcular a forma centrada para os pontos extremos\n",
        "\n",
        "    h = pontos[indice + 1][0] - pontos[indice][0]\n",
        "    return (pontos[indice + 1][1] - pontos[indice - 1][1]) / (2 * h)\n",
        "\n",
        "def derivada_nao_centrada(pontos, indice):\n",
        "    if indice == len(pontos) - 1:\n",
        "        return None  # Não é possível calcular a forma não centrada para o último ponto\n",
        "\n",
        "    h = pontos[indice + 1][0] - pontos[indice][0]\n",
        "    return (pontos[indice + 1][1] - pontos[indice][1]) / h\n",
        "\n",
        "# Exemplo de uso\n",
        "pontos = [(1.8, 10.889365), (1.9, 12.703199), (2.0, 14.778112 ),(2.1, 17.148957),(2.2, 19.855030)]  # Conjunto de pontos (x, y)\n",
        "indice = 2  # Índice do ponto para calcular a derivada\n",
        "\n",
        "deriv_centrada = derivada_centrada(pontos, indice)\n",
        "deriv_nao_centrada = derivada_nao_centrada(pontos, indice)\n",
        "\n",
        "print(\"Derivada Centrada:\", deriv_centrada)\n",
        "print(\"Derivada Não Centrada:\", deriv_nao_centrada)\n",
        "\n",
        "ref = -2.08926542012\n",
        "\n",
        "drp_centrada = abs(100*(deriv_centrada - ref)/ref)\n",
        "print(\"Drp derivada Centrada:\", drp_centrada, \"%\")\n",
        "\n",
        "drp_nao_centrada = abs(100*(deriv_nao_centrada - ref)/ref)\n",
        "print(\"Drp derivada nao Centrada:\", drp_nao_centrada, \"%\")\n",
        "\n",
        "# Cálculo do erro de truncamento\n",
        "h = pontos[1][0] - pontos[0][0]\n",
        "x = pontos[indice][0]\n",
        "def cota_maxima(tipo,x1,x2,h):\n",
        "  if tipo == 'centrada':\n",
        "        if erro_truncamento('centrada',x1,h) > erro_truncamento('centrada',x2,h):\n",
        "          return erro_truncamento('centrada',x1,h)\n",
        "        else:\n",
        "          return erro_truncamento('centrada',x2,h)\n",
        "  if tipo == 'nao_centrada':\n",
        "        if erro_truncamento('nao_centrada',x1,h) > erro_truncamento('nao_centrada',x2,h):\n",
        "          return erro_truncamento('nao_centrada',x1,h)\n",
        "        else:\n",
        "          return erro_truncamento('nao_centrada',x2,h)\n",
        "  else:\n",
        "        return None\n",
        "\n",
        "erro_centrada = cota_maxima('centrada',pontos[indice - 1][0],pontos[indice + 1][0], h)\n",
        "erro_nao_centrada = cota_maxima('nao_centrada',pontos[indice - 1][0],pontos[indice + 1][0], h)\n",
        "\n",
        "print(\"Erro de Truncamento Derivada Centrada:\", erro_centrada)\n",
        "print(\"Erro de Truncamento Derivada Não Centrada:\", erro_nao_centrada)\n"
      ]
    },
    {
      "cell_type": "code",
      "source": [
        "#Considerando o ponto no erro de truncamento\n",
        "import math\n",
        "\n",
        "def f_segunda_derivada(x):\n",
        "    return 4 * math.exp(-2 * x) - 4 * math.cos(2 * x)\n",
        "\n",
        "def f_terceira_derivada(x):\n",
        "    return -8 * math.exp(-2 * x) + 8 * math.sin(2 * x)\n",
        "\n",
        "def erro_truncamento(tipo, x, h):\n",
        "    if tipo == 'centrada':\n",
        "        return abs(f_terceira_derivada(x) * h**2 / 6)\n",
        "    elif tipo == 'nao_centrada':\n",
        "        return abs(f_segunda_derivada(x) * h / 2)\n",
        "    else:\n",
        "        return None\n",
        "\n",
        "import math\n",
        "def derivada_centrada(pontos, indice):\n",
        "    if indice == 0 or indice == len(pontos) - 1:\n",
        "        return None  # Não é possível calcular a forma centrada para os pontos extremos\n",
        "\n",
        "    h = pontos[indice + 1][0] - pontos[indice][0]\n",
        "    return (pontos[indice + 1][1] - pontos[indice - 1][1]) / (2 * h)\n",
        "\n",
        "def derivada_nao_centrada(pontos, indice):\n",
        "    if indice == len(pontos) - 1:\n",
        "        return None  # Não é possível calcular a forma não centrada para o último ponto\n",
        "\n",
        "    h = pontos[indice + 1][0] - pontos[indice][0]\n",
        "    return (pontos[indice + 1][1] - pontos[indice][1]) / h\n",
        "\n",
        "# Exemplo de uso\n",
        "pontos = [(0.9, -0.0619032064715), (1.0, -0.280811553311), (1.1,-0.477697958893 )]  # Conjunto de pontos (x, y)\n",
        "indice = 1  # Índice do ponto para calcular a derivada\n",
        "\n",
        "deriv_centrada = derivada_centrada(pontos, indice)\n",
        "deriv_nao_centrada = derivada_nao_centrada(pontos, indice)\n",
        "\n",
        "print(\"Derivada Centrada:\", deriv_centrada)\n",
        "print(\"Derivada Não Centrada:\", deriv_nao_centrada)\n",
        "\n",
        "ref = -2.08926542012\n",
        "\n",
        "drp_centrada = abs(100*(deriv_centrada - ref)/ref)\n",
        "print(\"Drp derivada Centrada:\", drp_centrada, \"%\")\n",
        "\n",
        "drp_nao_centrada = abs(100*(deriv_nao_centrada - ref)/ref)\n",
        "print(\"Drp derivada nao Centrada:\", drp_nao_centrada, \"%\")\n",
        "\n",
        "# Cálculo do erro de truncamento\n",
        "h = pontos[1][0] - pontos[0][0]\n",
        "x = pontos[indice][0]\n",
        "\n",
        "erro_centrada = erro_truncamento('centrada', x, h)\n",
        "erro_nao_centrada = erro_truncamento('nao_centrada', x, h)\n",
        "\n",
        "print(\"Erro de Truncamento Derivada Centrada:\", erro_centrada)\n",
        "print(\"Erro de Truncamento Derivada Não Centrada:\", erro_nao_centrada)\n"
      ],
      "metadata": {
        "colab": {
          "base_uri": "https://localhost:8080/"
        },
        "id": "3roX09_R6aKd",
        "outputId": "9988eea6-02b9-40f8-e803-b29331378647"
      },
      "execution_count": null,
      "outputs": [
        {
          "output_type": "stream",
          "name": "stdout",
          "text": [
            "Derivada Centrada: -2.078973762107498\n",
            "Derivada Não Centrada: -1.9688640558199981\n",
            "Drp derivada Centrada: 0.4925969631905722 %\n",
            "Drp derivada nao Centrada: 5.76285631976268 %\n",
            "Erro de Truncamento Derivada Centrada: 0.010319495247854247\n",
            "Erro de Truncamento Derivada Não Centrada: 0.110296423956751\n"
          ]
        }
      ]
    }
  ]
}