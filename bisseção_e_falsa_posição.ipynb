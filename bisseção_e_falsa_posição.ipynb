{
  "nbformat": 4,
  "nbformat_minor": 0,
  "metadata": {
    "colab": {
      "provenance": [],
      "include_colab_link": true
    },
    "kernelspec": {
      "name": "python3",
      "display_name": "Python 3"
    },
    "language_info": {
      "name": "python"
    }
  },
  "cells": [
    {
      "cell_type": "markdown",
      "metadata": {
        "id": "view-in-github",
        "colab_type": "text"
      },
      "source": [
        "<a href=\"https://colab.research.google.com/github/Orkthi/calculo-numerico/blob/main/bisse%C3%A7%C3%A3o_e_falsa_posi%C3%A7%C3%A3o.ipynb\" target=\"_parent\"><img src=\"https://colab.research.google.com/assets/colab-badge.svg\" alt=\"Open In Colab\"/></a>"
      ]
    },
    {
      "cell_type": "code",
      "source": [
        "import math\n",
        "import sys\n",
        "# Define a função para a qual queremos encontrar a raiz.\n",
        "def f(x):\n",
        "    #return math.exp(x) - math.cos(x)\n",
        "    #return math.exp(x) - math.sin(x)\n",
        "    #return math.log(x) + math.cosh(x)\n",
        "    return (x**2 - 1) - math.sin(x)\n",
        "\n",
        "# Solicita ao usuário o valor de tol.\n",
        "tol = float(input(\"Digite o valor desejado para a precisão (exemplo: 0.0001): \"))\n",
        "\n",
        "# Solicita ao usuário um valor inicial para a.\n",
        "a = float(input(\"Digite o valor de a: \"))\n",
        "\n",
        "# Se o valor de f(a) estiver próximo de zero, informa ao usuário.\n",
        "if abs(f(a)) < tol:\n",
        "    print(f\"f({a}) está próximo de zero. Raiz aproximada encontrada: {a}\")\n",
        "    sys.exit()\n",
        "# Solicita ao usuário um valor inicial para b.\n",
        "b = float(input(\"Digite o valor de b : \"))\n",
        "\n",
        "# Se o valor de f(b) estiver próximo de zero, informa ao usuário.\n",
        "if abs(f(b)) < tol:\n",
        "    print(f\"f({b}) está próximo de zero. Raiz aproximada encontrada: {b}\")\n",
        "    sys.exit()\n",
        "\n",
        "\n",
        "\n",
        "while f(a)*f(b) > 0:\n",
        "    print(\"Não pode garantir que exista raiz neste intervalo.\")\n",
        "    # compara o módulo para ver se o de b é menor do que o de a, e compara através da comparação booleana se f(b) e f(a) possuem o mesmo sinal\n",
        "    if abs(f(b)) < abs(f(a)) and (f(b) > 0) == (f(a) > 0):\n",
        "        print(f\"O valor {b} é melhor que {a} para 'a'. Substituindo...\")\n",
        "        a = b\n",
        "    b = float(input(\"Digite um novo valor de b : \"))\n",
        "\n",
        "    if abs(f(b)) < tol:\n",
        "        print(f\"f({b}) está próximo de zero. Raiz aproximada encontrada: {b}\")"
      ],
      "metadata": {
        "id": "9SxwA7k95fBL",
        "colab": {
          "base_uri": "https://localhost:8080/"
        },
        "outputId": "3568e9e2-f6fe-47e5-d3c5-37b78498d42c"
      },
      "execution_count": null,
      "outputs": [
        {
          "name": "stdout",
          "output_type": "stream",
          "text": [
            "Digite o valor desejado para a precisão (exemplo: 0.0001): 0.00001\n",
            "Digite o valor de a: 1\n",
            "Digite o valor de b : 0\n",
            "Não pode garantir que exista raiz neste intervalo.\n",
            "Digite um novo valor de b : 2\n"
          ]
        }
      ]
    },
    {
      "cell_type": "code",
      "source": [
        "# Implementa o método da bisseção para encontrar uma raiz da função no intervalo [a, b].\n",
        "def bissecao(a, b, tol):\n",
        "    c = (a+b)/2.0\n",
        "    aux = 0\n",
        "    while abs(f(c)) > tol:\n",
        "        if f(c) == 0:\n",
        "            break\n",
        "        elif f(c)*f(a) < 0:\n",
        "          aux += 1\n",
        "          b = c\n",
        "        else:\n",
        "            a = c\n",
        "            aux += 1\n",
        "        c = (a+b)/2.0\n",
        "\n",
        "    print(f\"O número de iterações é: {aux}\")\n",
        "    return c\n",
        "\n",
        "raiz = bissecao(a, b, tol)\n",
        "print(f\"Uma raiz aproximada é: {raiz:.7f}\")\n"
      ],
      "metadata": {
        "id": "sq9HvxfcFBRX",
        "colab": {
          "base_uri": "https://localhost:8080/"
        },
        "outputId": "0209c7ac-b844-4092-aebd-e01748df999f"
      },
      "execution_count": null,
      "outputs": [
        {
          "output_type": "stream",
          "name": "stdout",
          "text": [
            "O número de iterações é: 15\n",
            "Uma raiz aproximada é: 1.4096222\n"
          ]
        }
      ]
    },
    {
      "cell_type": "code",
      "source": [
        "def falsa_posicao(a, b, tol):\n",
        "    # Calcula os valores de f(a) e f(b, e inicializa a variavel fc\n",
        "      fc = 99999999\n",
        "      fa = f(a)\n",
        "      fb = f(b)\n",
        "      aux = 0\n",
        "\n",
        "      #adiciona o criterio de parada e compara toda vez com a tolerancia\n",
        "      while abs(fc) > tol:\n",
        "\n",
        "\n",
        "        # Calcula o ponto c usando o método da falsa posição.\n",
        "        c = (a * fb - b * fa) / (fb - fa)\n",
        "        fc = f(c)\n",
        "\n",
        "        # Verifica se a função no ponto c está próxima de zero (tolerância).\n",
        "        if abs(fc) < tol:\n",
        "            return c\n",
        "\n",
        "        # Atualiza os valores de a e b com base no ponto c.\n",
        "        if fc * fa < 0:\n",
        "            b = c\n",
        "            aux += 1\n",
        "        else:\n",
        "            a = c\n",
        "            aux += 1\n",
        "        print(f\"O número de iterações é: {aux}\")\n",
        "\n",
        "\n",
        "# Chama a função falsa_posicao para encontrar uma raiz.\n",
        "raiz = falsa_posicao(a, b, tol)\n",
        "\n",
        "print(f\"Uma raiz aproximada é: {raiz:.7f}\")"
      ],
      "metadata": {
        "colab": {
          "base_uri": "https://localhost:8080/"
        },
        "id": "W206u4_2FZ95",
        "outputId": "9760b495-c529-4eeb-c942-2c550e15aa88"
      },
      "execution_count": null,
      "outputs": [
        {
          "output_type": "stream",
          "name": "stdout",
          "text": [
            "O número de iterações é: 1\n",
            "O número de iterações é: 2\n",
            "O número de iterações é: 3\n",
            "O número de iterações é: 4\n",
            "O número de iterações é: 5\n",
            "O número de iterações é: 6\n",
            "O número de iterações é: 7\n",
            "O número de iterações é: 8\n",
            "O número de iterações é: 9\n",
            "O número de iterações é: 10\n",
            "O número de iterações é: 11\n",
            "O número de iterações é: 12\n",
            "O número de iterações é: 13\n",
            "O número de iterações é: 14\n",
            "O número de iterações é: 15\n",
            "O número de iterações é: 16\n",
            "O número de iterações é: 17\n",
            "O número de iterações é: 18\n",
            "O número de iterações é: 19\n",
            "O número de iterações é: 20\n",
            "O número de iterações é: 21\n",
            "O número de iterações é: 22\n",
            "Uma raiz aproximada é: 1.4096224\n"
          ]
        }
      ]
    }
  ]
}