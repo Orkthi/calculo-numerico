{
  "nbformat": 4,
  "nbformat_minor": 0,
  "metadata": {
    "colab": {
      "provenance": [],
      "authorship_tag": "ABX9TyMq5TWw2ZcwBKGx7ewpiiCx",
      "include_colab_link": true
    },
    "kernelspec": {
      "name": "python3",
      "display_name": "Python 3"
    },
    "language_info": {
      "name": "python"
    }
  },
  "cells": [
    {
      "cell_type": "markdown",
      "metadata": {
        "id": "view-in-github",
        "colab_type": "text"
      },
      "source": [
        "<a href=\"https://colab.research.google.com/github/Orkthi/calculo-numerico/blob/main/Integra%C3%A7%C3%A3o_num%C3%A9rica.ipynb\" target=\"_parent\"><img src=\"https://colab.research.google.com/assets/colab-badge.svg\" alt=\"Open In Colab\"/></a>"
      ]
    },
    {
      "cell_type": "code",
      "execution_count": null,
      "metadata": {
        "id": "ucCkZ7XnntTo",
        "colab": {
          "base_uri": "https://localhost:8080/"
        },
        "outputId": "50b77b70-edab-4b50-d625-6b7405b7b7fc"
      },
      "outputs": [
        {
          "output_type": "stream",
          "name": "stdout",
          "text": [
            "Digite o limite inferior de integração: 0\n",
            "Digite o limite superior de integração: 1\n",
            "Digite a cota máxima de erro de truncamento: 0.001\n",
            "Digite a função para o número inicial de trapézios: 10\n",
            "Aproximação da integral: 1.7186397889252214\n",
            "O drp é: 0.0208325%\n"
          ]
        }
      ],
      "source": [
        "import math\n",
        "def funcao(x):\n",
        "    # Defina a função que deseja integrar aqui\n",
        "    return math.exp(x)\n",
        "\n",
        "def trapezio_repetido(a, b, n):\n",
        "    # Calcula a integral usando a fórmula do trapézio repetido\n",
        "    h = (b - a) / n\n",
        "    integral = 0.5 * (funcao(a) + funcao(b))\n",
        "\n",
        "    for i in range(1, n):\n",
        "        integral += funcao(a + i * h)\n",
        "\n",
        "    integral *= h\n",
        "    return integral\n",
        "\n",
        "def calcular_cota_erro(a, b, n):\n",
        "    # Calcula a cota máxima de erro de truncamento usando a fórmula\n",
        "    h = (b - a) / n\n",
        "    return ((b - a)**3) / (12 * n**2)\n",
        "\n",
        "def drp(a, b, n_func, tolerancia):\n",
        "    # Aplica a técnica de duplicação da razão de convergência (DRP)\n",
        "    n = n_func()\n",
        "    resultado_anterior = trapezio_repetido(a, b, n)\n",
        "    resultado_atual = trapezio_repetido(a, b, 2 * n)\n",
        "    cota_erro = calcular_cota_erro(a, b, n)\n",
        "\n",
        "    while cota_erro > tolerancia:\n",
        "        n *= 2\n",
        "        resultado_anterior = resultado_atual\n",
        "        resultado_atual = trapezio_repetido(a, b, 2 * n)\n",
        "        cota_erro = calcular_cota_erro(a, b, n)\n",
        "\n",
        "    return resultado_atual\n",
        "\n",
        "# Solicita ao usuário os limites de integração, a função para o número inicial de trapézios e a cota máxima de erro\n",
        "limite_inferior = float(input(\"Digite o limite inferior de integração: \"))\n",
        "limite_superior = float(input(\"Digite o limite superior de integração: \"))\n",
        "\n",
        "def obter_numero_trapezios():\n",
        "    return int(input(\"Digite a função para o número inicial de trapézios: \"))\n",
        "\n",
        "cota_erro = float(input(\"Digite a cota máxima de erro de truncamento: \"))\n",
        "\n",
        "# Calcula a integral usando a técnica de DRP\n",
        "resultado_integral = drp(limite_inferior, limite_superior, obter_numero_trapezios, cota_erro)\n",
        "\n",
        "# Exibe o resultado\n",
        "print(f\"Aproximação da integral: {resultado_integral}\")\n",
        "\n",
        "\n",
        "ref = 1.71828182846\n",
        "\n",
        "desvio = abs(100*(resultado_integral - ref)/ref)\n",
        "\n",
        "print(f\"O drp é: {desvio:.7f}%\")"
      ]
    }
  ]
}